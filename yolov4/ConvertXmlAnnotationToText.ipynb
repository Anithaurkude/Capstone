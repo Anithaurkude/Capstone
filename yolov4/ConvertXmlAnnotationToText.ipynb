{
 "cells": [
  {
   "cell_type": "code",
   "execution_count": 1,
   "metadata": {},
   "outputs": [],
   "source": [
    "import os\n",
    "import xml.etree.ElementTree as ET"
   ]
  },
  {
   "cell_type": "code",
   "execution_count": 2,
   "metadata": {},
   "outputs": [],
   "source": [
    "input_xml_path = 'C:/Users/Alok/Softwares/Anaconda/Arati_PGPAIML/CapstoneProject/LargeDataset/train/India/annotations/xmls/'"
   ]
  },
  {
   "cell_type": "code",
   "execution_count": 3,
   "metadata": {},
   "outputs": [],
   "source": [
    "output_labels_path = 'C:/Users/Alok/Softwares/Anaconda/Arati_PGPAIML/CapstoneProject/LargeDataset/train/India/annotations/txt/'"
   ]
  },
  {
   "cell_type": "code",
   "execution_count": 4,
   "metadata": {
    "scrolled": true
   },
   "outputs": [
    {
     "name": "stdout",
     "output_type": "stream",
     "text": [
      "Completed\n"
     ]
    }
   ],
   "source": [
    "\n",
    "dirpath = input_xml_path          # xml file storage directory of the original\n",
    "newdir = output_labels_path       # txt directory formed after the modified label #\n",
    " \n",
    "if not os.path.exists(newdir):\n",
    "    os.makedirs(newdir)\n",
    " \n",
    "for fp in os.listdir(dirpath):\n",
    "    #print(\"Name : \" + fp)\n",
    "    root = ET.parse(os.path.join(dirpath,fp)).getroot()\n",
    " \n",
    "    xmin, ymin, xmax, ymax = 0,0,0,0\n",
    "    sz = root.find('size')\n",
    "    \n",
    "    width = float(sz.find('width').text)\n",
    "    #print(width)\n",
    "    height = float(sz.find('height').text)\n",
    "    #print(height)\n",
    "    filename = root.find('filename').text\n",
    "    #print(filename)\n",
    "    \n",
    "    for child in root.findall('object'):               # find all the boxes in the picture\n",
    "        # print(child.find('name').text)\n",
    "        sub = child.find( 'bndbox')                    # find the dimension values ​​and reading frame\n",
    "        \n",
    "        label = child.find('name').text\n",
    "        xmin = float(sub.find('xmin').text)\n",
    "        ymin = float(sub.find('ymin').text)\n",
    "        xmax = float(sub.find('xmax').text)\n",
    "        ymax = float(sub.find('ymax').text)\n",
    "        #In the range of # yolov3 label format is converted into the required normalized to (0-1): \n",
    "        try:\n",
    "            x_center = (xmin + xmax) / (2 * width)\n",
    "            y_center = (ymin + ymax) / (2 * height)\n",
    "            w = (xmax - xmin) / width\n",
    "            h = (ymax - ymin) / height\n",
    "        except ZeroDivisionError:\n",
    "            print (filename, 'the width in question')\n",
    "        \n",
    "        with open(os.path.join(newdir, fp.split('.')[0]+'.txt'), 'a+') as f:\n",
    "            f.write(' '.join([str(label), str(x_center), str(y_center), str(w), str(h) + '\\n']))\n",
    "    \n",
    "print('Completed')"
   ]
  },
  {
   "cell_type": "code",
   "execution_count": null,
   "metadata": {},
   "outputs": [],
   "source": []
  },
  {
   "cell_type": "code",
   "execution_count": null,
   "metadata": {},
   "outputs": [],
   "source": []
  },
  {
   "cell_type": "code",
   "execution_count": null,
   "metadata": {},
   "outputs": [],
   "source": []
  }
 ],
 "metadata": {
  "kernelspec": {
   "display_name": "Python 3",
   "language": "python",
   "name": "python3"
  },
  "language_info": {
   "codemirror_mode": {
    "name": "ipython",
    "version": 3
   },
   "file_extension": ".py",
   "mimetype": "text/x-python",
   "name": "python",
   "nbconvert_exporter": "python",
   "pygments_lexer": "ipython3",
   "version": "3.7.3"
  }
 },
 "nbformat": 4,
 "nbformat_minor": 2
}
